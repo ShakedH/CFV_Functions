{
 "cells": [
  {
   "cell_type": "code",
   "execution_count": 1,
   "metadata": {},
   "outputs": [
    {
     "name": "stderr",
     "output_type": "stream",
     "text": [
      "c:\\python27\\lib\\site-packages\\pydub\\utils.py:165: RuntimeWarning: Couldn't find ffmpeg or avconv - defaulting to ffmpeg, but may not work\n",
      "  warn(\"Couldn't find ffmpeg or avconv - defaulting to ffmpeg, but may not work\", RuntimeWarning)\n"
     ]
    }
   ],
   "source": [
    "from azure.storage.blob import BlockBlobService\n",
    "from azure.storage.blob.models import ContentSettings\n",
    "from urllib2 import urlopen\n",
    "from pydub import AudioSegment\n",
    "from pydub import silence"
   ]
  },
  {
   "cell_type": "code",
   "execution_count": 2,
   "metadata": {},
   "outputs": [],
   "source": [
    "account_name = \"cfvtes9c07\"\n",
    "account_key = \"DSTJn6a1dS9aaoJuuw6ZOsnrsiW9V1jODJyHtekkYkc3BWofGVQjS6/ICWO7v51VUpTHSoiZXVvDI66uqTnOJQ==\"\n",
    "audio_container_name = \"audiocontainer\""
   ]
  },
  {
   "cell_type": "code",
   "execution_count": 84,
   "metadata": {},
   "outputs": [],
   "source": [
    "audio_file_name = \"journalism2.wav\"\n",
    "audio_file_url = r\"https://{0}.blob.core.windows.net/{1}/{2}\".format(account_name, audio_container_name, audio_file_name)\n",
    "audio_file_object = urlopen(audio_file_url)\n",
    "audio_segment = AudioSegment(audio_file_object)"
   ]
  },
  {
   "cell_type": "code",
   "execution_count": 85,
   "metadata": {},
   "outputs": [
    {
     "name": "stdout",
     "output_type": "stream",
     "text": [
      "Max possible amplitude: 32768.0\n",
      "RMS: 539\n"
     ]
    }
   ],
   "source": [
    "print 'Max possible amplitude:', audio_segment.max_possible_amplitude\n",
    "print 'RMS:', audio_segment.rms"
   ]
  },
  {
   "cell_type": "code",
   "execution_count": 87,
   "metadata": {},
   "outputs": [],
   "source": [
    "min_silence_len_param = 1000    # window size\n",
    "silence_thresh_param = -36\n",
    "seek_step_param = 1000  # window offset step\n",
    "keep_silence_param = 0"
   ]
  },
  {
   "cell_type": "code",
   "execution_count": 88,
   "metadata": {
    "collapsed": true
   },
   "outputs": [
    {
     "data": {
      "text/plain": [
       "[[12000, 15000],\n",
       " [16000, 17000],\n",
       " [20000, 23000],\n",
       " [24000, 29000],\n",
       " [30000, 31000],\n",
       " [32000, 33000],\n",
       " [34000, 35000],\n",
       " [38000, 44000],\n",
       " [45000, 49000],\n",
       " [50000, 52000],\n",
       " [53000, 55000],\n",
       " [56000, 57000],\n",
       " [58000, 59000],\n",
       " [60000, 61000],\n",
       " [62000, 64000],\n",
       " [65000, 66000],\n",
       " [67000, 68000],\n",
       " [69000, 70000],\n",
       " [73000, 78000],\n",
       " [83000, 85000],\n",
       " [87000, 90000],\n",
       " [92000, 93000],\n",
       " [94000, 98000],\n",
       " [99000, 102000],\n",
       " [103000, 107000],\n",
       " [108000, 110000],\n",
       " [114000, 118000],\n",
       " [119000, 120000],\n",
       " [121000, 125000],\n",
       " [126000, 129000],\n",
       " [132000, 133000],\n",
       " [135000, 136000],\n",
       " [139000, 140000],\n",
       " [141000, 145000],\n",
       " [146000, 148000],\n",
       " [149000, 150000],\n",
       " [153000, 155000],\n",
       " [156000, 157000],\n",
       " [158000, 160000],\n",
       " [161000, 170000],\n",
       " [174000, 175000],\n",
       " [176000, 180000],\n",
       " [181000, 182000],\n",
       " [183000, 184000],\n",
       " [185000, 189000],\n",
       " [190000, 192000],\n",
       " [195000, 198000],\n",
       " [199000, 200000],\n",
       " [201000, 205000],\n",
       " [206000, 207000],\n",
       " [211000, 212000],\n",
       " [213000, 215000],\n",
       " [216000, 222000],\n",
       " [223000, 225000],\n",
       " [226000, 228000],\n",
       " [229000, 234000],\n",
       " [236000, 243000],\n",
       " [246000, 249000],\n",
       " [250000, 256000],\n",
       " [258000, 259000],\n",
       " [260000, 261000],\n",
       " [262000, 263000],\n",
       " [264000, 266000],\n",
       " [267000, 268000],\n",
       " [270000, 273000],\n",
       " [274000, 276000],\n",
       " [279000, 280000],\n",
       " [281000, 283000],\n",
       " [286000, 287000],\n",
       " [289000, 294000],\n",
       " [300000, 305389]]"
      ]
     },
     "execution_count": 88,
     "metadata": {},
     "output_type": "execute_result"
    }
   ],
   "source": [
    "silence.detect_nonsilent(audio_segment,\n",
    "                         min_silence_len=min_silence_len_param,\n",
    "                         silence_thresh=silence_thresh_param,\n",
    "                         seek_step=seek_step_param)"
   ]
  },
  {
   "cell_type": "code",
   "execution_count": null,
   "metadata": {},
   "outputs": [],
   "source": []
  }
 ],
 "metadata": {
  "kernelspec": {
   "display_name": "Python 2",
   "language": "python",
   "name": "python2"
  },
  "language_info": {
   "codemirror_mode": {
    "name": "ipython",
    "version": 2
   },
   "file_extension": ".py",
   "mimetype": "text/x-python",
   "name": "python",
   "nbconvert_exporter": "python",
   "pygments_lexer": "ipython2",
   "version": "2.7.13"
  }
 },
 "nbformat": 4,
 "nbformat_minor": 2
}
